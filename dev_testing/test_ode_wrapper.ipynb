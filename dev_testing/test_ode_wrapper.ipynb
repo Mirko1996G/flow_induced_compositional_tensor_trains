{
 "cells": [
  {
   "cell_type": "code",
   "execution_count": 1,
   "metadata": {},
   "outputs": [],
   "source": [
    "import torch\n",
    "import numpy as np\n",
    "import matplotlib.pyplot as plt\n",
    "import torch.optim as optim\n",
    "\n",
    "from src.basis_functions import OrthonormalLegendre1D\n",
    "from src.velocity_functions import Func, FuncTT\n",
    "from src.ode_wrapper import ContinuousNormalizingFlowODE, CoordinateFlowODE, ExtendedFlowODE"
   ]
  },
  {
   "cell_type": "code",
   "execution_count": 3,
   "metadata": {},
   "outputs": [],
   "source": [
    "# Initialize Legendre basis and instantiate corresponding FTT\n",
    "dimension = 8\n",
    "d = 2\n",
    "\n",
    "bases = [\n",
    "        OrthonormalLegendre1D(torch.eye(dimension, dtype=float), domain=(-5., 5.))\n",
    "        for _ in range(d)\n",
    "        ]\n",
    "\n",
    "x = torch.tensor([0., 0.], dtype=float)"
   ]
  },
  {
   "cell_type": "code",
   "execution_count": 4,
   "metadata": {},
   "outputs": [],
   "source": [
    "ftt = FuncTT(2, 2, bases, 4, time_dependent=False)"
   ]
  },
  {
   "cell_type": "code",
   "execution_count": 6,
   "metadata": {},
   "outputs": [
    {
     "name": "stdout",
     "output_type": "stream",
     "text": [
      "tensor([-0.0413,  0.0703], dtype=torch.float64, grad_fn=<SliceBackward0>)\n"
     ]
    }
   ],
   "source": [
    "cnf_ftt_ode = ContinuousNormalizingFlowODE(ftt)\n",
    "print(cnf_ftt_ode(x, ts=torch.linspace(0, 1, 8)))"
   ]
  },
  {
   "cell_type": "code",
   "execution_count": 7,
   "metadata": {},
   "outputs": [
    {
     "name": "stdout",
     "output_type": "stream",
     "text": [
      "tensor([-0.0413,  0.0703], dtype=torch.float64, grad_fn=<SliceBackward0>)\n"
     ]
    }
   ],
   "source": [
    "cf_ftt_ode = CoordinateFlowODE(ftt)\n",
    "print(cf_ftt_ode(x, ts=torch.linspace(0, 1, 8)))"
   ]
  },
  {
   "cell_type": "code",
   "execution_count": 9,
   "metadata": {},
   "outputs": [],
   "source": [
    "ftt_gaussian = FuncTT(2, 1, bases, 4, time_dependent=False)"
   ]
  },
  {
   "cell_type": "code",
   "execution_count": 10,
   "metadata": {},
   "outputs": [
    {
     "name": "stdout",
     "output_type": "stream",
     "text": [
      "tensor(0.9078, dtype=torch.float64, grad_fn=<SelectBackward0>)\n"
     ]
    }
   ],
   "source": [
    "extended_ftt_ode = ExtendedFlowODE(ftt_gaussian)\n",
    "print(extended_ftt_ode(x, ts=torch.linspace(0, 1, 8)))"
   ]
  },
  {
   "cell_type": "code",
   "execution_count": null,
   "metadata": {},
   "outputs": [],
   "source": []
  }
 ],
 "metadata": {
  "kernelspec": {
   "display_name": "myenv",
   "language": "python",
   "name": "python3"
  },
  "language_info": {
   "codemirror_mode": {
    "name": "ipython",
    "version": 3
   },
   "file_extension": ".py",
   "mimetype": "text/x-python",
   "name": "python",
   "nbconvert_exporter": "python",
   "pygments_lexer": "ipython3",
   "version": "3.12.4"
  }
 },
 "nbformat": 4,
 "nbformat_minor": 2
}
